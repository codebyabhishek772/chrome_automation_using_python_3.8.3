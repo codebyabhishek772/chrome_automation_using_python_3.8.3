{
  "nbformat": 4,
  "nbformat_minor": 0,
  "metadata": {
    "colab": {
      "name": "chrome_automation_using_python.ipynb",
      "provenance": [],
      "collapsed_sections": [],
      "authorship_tag": "ABX9TyOD7gh1NyWKCmvVT3g3sg68",
      "include_colab_link": true
    },
    "kernelspec": {
      "name": "python3",
      "display_name": "Python 3"
    }
  },
  "cells": [
    {
      "cell_type": "markdown",
      "metadata": {
        "id": "view-in-github",
        "colab_type": "text"
      },
      "source": [
        "<a href=\"https://colab.research.google.com/github/codebyabhishek772/chrome_automation_using_python_3.8.3/blob/master/chrome_automation_using_python.ipynb\" target=\"_parent\"><img src=\"https://colab.research.google.com/assets/colab-badge.svg\" alt=\"Open In Colab\"/></a>"
      ]
    },
    {
      "cell_type": "code",
      "metadata": {
        "id": "FL418eIT-Uhh",
        "colab_type": "code",
        "colab": {}
      },
      "source": [
        "import webbrowser as wb"
      ],
      "execution_count": 1,
      "outputs": []
    },
    {
      "cell_type": "code",
      "metadata": {
        "id": "X1XuMFEKAjQp",
        "colab_type": "code",
        "colab": {
          "base_uri": "https://localhost:8080/",
          "height": 85
        },
        "outputId": "8a93bcf2-9497-4486-9751-eb6637803388"
      },
      "source": [
        "def webauto():\n",
        "  chrome_path = 'C:\\Program Files (x86)\\Google\\Chrome\\Application\\chrome.exe %s'\n",
        "  URLS = (\n",
        "      \"stackoverflow.com\",\n",
        "      \"gmail.com\",\n",
        "      \"google.com\",\n",
        "      \"youtube.com\"\n",
        "  )\n",
        "\n",
        "  for url in URLS:\n",
        "    print(\"opening : \" +url)\n",
        "    wb.get(chrome_path).open(url)\n",
        "\n",
        "webauto()"
      ],
      "execution_count": 2,
      "outputs": [
        {
          "output_type": "stream",
          "text": [
            "opening : stackoverflow.com\n",
            "opening : gmail.com\n",
            "opening : google.com\n",
            "opening : youtube.com\n"
          ],
          "name": "stdout"
        }
      ]
    }
  ]
}